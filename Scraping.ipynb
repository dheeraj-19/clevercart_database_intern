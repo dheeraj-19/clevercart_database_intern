{
 "cells": [
  {
   "cell_type": "code",
   "execution_count": 1,
   "id": "97c07ce3",
   "metadata": {},
   "outputs": [],
   "source": [
    "import requests\n",
    "from bs4 import BeautifulSoup\n",
    "import csv"
   ]
  },
  {
   "cell_type": "code",
   "execution_count": 2,
   "id": "764a4e5a",
   "metadata": {},
   "outputs": [],
   "source": [
    "def scrape_recipe(url):\n",
    "    # Make a request to the recipe page\n",
    "    response = requests.get(url)\n",
    "\n",
    "    # Parse the HTML content of the page using Beautiful Soup\n",
    "    soup = BeautifulSoup(response.content, 'html.parser')\n",
    "\n",
    "    # Extract the required information from the page\n",
    "    recipe_name = soup.find('h1').text.strip()\n",
    "    description = soup.find('p').text.strip()\n",
    "    instructions = [step.text.strip() for step in soup.find_all('li', class_='comp mntl-sc-block-group--LI mntl-sc-block mntl-sc-block-startgroup')]\n",
    "    grocery_items = [item.text.strip() for item in soup.find_all('span', {'data-ingredient-name': 'true'})]\n",
    "    grocery_quantities = [item.text.strip() for item in soup.find_all('span', {'data-ingredient-quantity': 'true'})]\n",
    "    grocery_types = [item.text.strip() for item in soup.find_all('span', {'data-ingredient-unit': 'true'})]\n",
    "    total_time = soup.find('div', {'class': 'mntl-recipe-details__label'}, text='Total Time:').find_next_sibling('div').text.strip()\n",
    "    servings = soup.find('div', {'class': 'mntl-recipe-details__label'}, text='Servings:').find_next_sibling('div').text.strip()\n",
    "    \n",
    "    grocery_quantities = [q.replace('½', '1/2') for q in grocery_quantities]\n",
    "    grocery_quantities = [q.replace('¼', '1/4') for q in grocery_quantities]\n",
    "    grocery_quantities = [q.replace('¾', '3/4') for q in grocery_quantities]\n",
    "\n",
    "    \n",
    "    # Return the extracted information as a dictionary\n",
    "    return {\n",
    "        'recipe_name': recipe_name,\n",
    "        'description': description,\n",
    "        'instructions': '\\n'.join(instructions),\n",
    "        'grocery_items': '\\n'.join(grocery_items),\n",
    "        'grocery_quantities': '\\n'.join(grocery_quantities),\n",
    "        'grocery_types': '\\n'.join(grocery_types),\n",
    "        'total_time': total_time,\n",
    "        'serving_size': servings\n",
    "    }"
   ]
  },
  {
   "cell_type": "code",
   "execution_count": 3,
   "id": "f1f238e5",
   "metadata": {},
   "outputs": [],
   "source": [
    "def scrape_website(url):\n",
    "    # Make a request to the website's recipe index page\n",
    "    response = requests.get(url)\n",
    "\n",
    "    # Parse the HTML content of the page using Beautiful Soup\n",
    "    soup = BeautifulSoup(response.content, 'html.parser')\n",
    "\n",
    "    # Extract the URLs of all recipe pages on the website\n",
    "    recipe_urls = soup.find_all('a', class_ = 'mntl-sc-block-featuredlink__link mntl-text-link button--contained-standard type--squirrel')\n",
    "    links = [link['href'] for link in recipe_urls]\n",
    "    \n",
    "    # Scrape each recipe page using the scrape_recipe function\n",
    "    recipes = [scrape_recipe(link) for link in links]\n",
    "\n",
    "    # Return the list of scraped recipe data\n",
    "    return recipes"
   ]
  },
  {
   "cell_type": "code",
   "execution_count": 4,
   "id": "9f40154a",
   "metadata": {},
   "outputs": [],
   "source": [
    "data = scrape_website('https://www.allrecipes.com/gallery/best-street-food-recipes-to-make-at-home/')"
   ]
  },
  {
   "cell_type": "code",
   "execution_count": 5,
   "id": "171a84f5",
   "metadata": {},
   "outputs": [],
   "source": [
    "with open('recipes.csv', 'w', newline='', encoding='utf-8') as file:\n",
    "\n",
    "    # Define the column names\n",
    "    fieldnames = [\n",
    "        'Recipe Name',\n",
    "        'Description',\n",
    "        'Instructions',\n",
    "        'Grocery Items',\n",
    "        'Grocery Quantities',\n",
    "        'Grocery Types',\n",
    "        'Total Time',\n",
    "        'Serving Size'\n",
    "    ]\n",
    "\n",
    "    # Create a CSV writer object\n",
    "    writer = csv.DictWriter(file, fieldnames=fieldnames)\n",
    "\n",
    "    # Write the column names\n",
    "    writer.writeheader()\n",
    "\n",
    "    # Write the data rows\n",
    "    for recipe in data:\n",
    "        writer.writerow({\n",
    "            'Recipe Name': recipe['recipe_name'],\n",
    "            'Description': recipe['description'],\n",
    "            'Instructions': recipe['instructions'],\n",
    "            'Grocery Items': recipe['grocery_items'],\n",
    "            'Grocery Quantities': recipe['grocery_quantities'],\n",
    "            'Grocery Types': recipe['grocery_types'],\n",
    "            'Total Time': recipe['total_time'],\n",
    "            'Serving Size': recipe['serving_size']\n",
    "        })"
   ]
  },
  {
   "cell_type": "code",
   "execution_count": null,
   "id": "94ca58c6",
   "metadata": {},
   "outputs": [],
   "source": []
  }
 ],
 "metadata": {
  "kernelspec": {
   "display_name": "Python 3 (ipykernel)",
   "language": "python",
   "name": "python3"
  },
  "language_info": {
   "codemirror_mode": {
    "name": "ipython",
    "version": 3
   },
   "file_extension": ".py",
   "mimetype": "text/x-python",
   "name": "python",
   "nbconvert_exporter": "python",
   "pygments_lexer": "ipython3",
   "version": "3.9.12"
  }
 },
 "nbformat": 4,
 "nbformat_minor": 5
}
